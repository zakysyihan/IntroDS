{
 "cells": [
  {
   "cell_type": "markdown",
   "metadata": {},
   "source": [
    "# Dataset"
   ]
  },
  {
   "cell_type": "markdown",
   "metadata": {},
   "source": [
    "Data description\n",
    "There are 3 types of input features:\n",
    "\n",
    "- Objective: factual information;\n",
    "- Examination: results of medical examination;\n",
    "- Subjective: information given by the patient.\n",
    "\n",
    "\n",
    "**Features**:\n",
    "\n",
    "- Age | Objective Feature | age | int (days)\n",
    "- Height | Objective Feature | height | int (cm) \n",
    "- Weight | Objective Feature | weight | float (kg) \n",
    "- Gender | Objective Feature | gender | 1: women, 2: men\n",
    "- Systolic blood pressure | Examination Feature | ap_hi | int\n",
    "- Diastolic blood pressure | Examination Feature | ap_lo | int\n",
    "- Cholesterol | Examination Feature | cholesterol | 1: normal, 2: above normal, 3: well above normal\n",
    "- Glucose | Examination Feature | gluc | 1: normal, 2: above normal, 3: well above normal\n",
    "- Smoking | Subjective Feature | smoke | binary\n",
    "- Alcohol intake | Subjective Feature | alco | binary\n",
    "- Physical activity | Subjective Feature | active | binary\n",
    "- <span style=\"color:red\">**Presence or absence of cardiovascular disease | Target Variable | cardio | binary**</span>\n",
    "\n",
    "All of the dataset values were collected at the moment of medical examination.\n",
    "\n",
    "For further information https://www.kaggle.com/sulianova/cardiovascular-disease-dataset"
   ]
  },
  {
   "cell_type": "markdown",
   "metadata": {},
   "source": [
    "# Import Data and Simple Data Exploration with Pandas"
   ]
  },
  {
   "cell_type": "markdown",
   "metadata": {},
   "source": [
    "```python\n",
    "import pandas as pd\n",
    "df = pd.read_csv('filename.csv', sep = ';')\n",
    "df.head()\n",
    "```"
   ]
  },
  {
   "cell_type": "code",
   "execution_count": null,
   "metadata": {
    "ExecuteTime": {
     "end_time": "2020-11-28T17:08:46.201281Z",
     "start_time": "2020-11-28T17:08:41.120300Z"
    }
   },
   "outputs": [],
   "source": []
  },
  {
   "cell_type": "code",
   "execution_count": null,
   "metadata": {
    "ExecuteTime": {
     "end_time": "2020-10-03T16:21:21.950438Z",
     "start_time": "2020-10-03T16:21:21.901568Z"
    }
   },
   "outputs": [],
   "source": []
  },
  {
   "cell_type": "code",
   "execution_count": null,
   "metadata": {
    "ExecuteTime": {
     "end_time": "2020-10-03T16:22:22.665493Z",
     "start_time": "2020-10-03T16:22:22.611640Z"
    }
   },
   "outputs": [],
   "source": []
  },
  {
   "cell_type": "markdown",
   "metadata": {},
   "source": [
    "Try some of these essential pandas data exploration function\n",
    "\n",
    "- `.tail()`\n",
    "- `.info()`\n",
    "- `.describe()`\n",
    "- `.corr()`"
   ]
  },
  {
   "cell_type": "code",
   "execution_count": null,
   "metadata": {
    "ExecuteTime": {
     "end_time": "2020-10-03T15:39:05.315693Z",
     "start_time": "2020-10-03T15:39:05.298752Z"
    }
   },
   "outputs": [],
   "source": []
  },
  {
   "cell_type": "code",
   "execution_count": null,
   "metadata": {
    "ExecuteTime": {
     "end_time": "2020-10-03T15:39:10.662088Z",
     "start_time": "2020-10-03T15:39:10.630163Z"
    }
   },
   "outputs": [],
   "source": []
  },
  {
   "cell_type": "code",
   "execution_count": null,
   "metadata": {
    "ExecuteTime": {
     "end_time": "2020-10-03T15:39:20.954725Z",
     "start_time": "2020-10-03T15:39:20.830059Z"
    }
   },
   "outputs": [],
   "source": []
  },
  {
   "cell_type": "code",
   "execution_count": null,
   "metadata": {
    "ExecuteTime": {
     "end_time": "2020-10-03T15:39:27.586864Z",
     "start_time": "2020-10-03T15:39:27.494114Z"
    }
   },
   "outputs": [],
   "source": []
  },
  {
   "cell_type": "markdown",
   "metadata": {},
   "source": [
    "# Feature Selection"
   ]
  },
  {
   "cell_type": "markdown",
   "metadata": {},
   "source": [
    "```python\n",
    "X = df[['your','desired','columns']]\n",
    "y = df['target']\n",
    "```"
   ]
  },
  {
   "cell_type": "code",
   "execution_count": null,
   "metadata": {},
   "outputs": [],
   "source": []
  },
  {
   "cell_type": "markdown",
   "metadata": {},
   "source": [
    "# Train Test Split with Scikit Learn"
   ]
  },
  {
   "cell_type": "markdown",
   "metadata": {},
   "source": [
    "```python\n",
    "from sklearn.model_selection import train_test_split\n",
    "\n",
    "X_train, X_test, y_train, y_test = train_test_split(X, y, test_size = 0.2, random_state = 42)\n",
    "print(X_train.shape, X_test.shape, y_train.shape, y_test.shape)\n",
    "```"
   ]
  },
  {
   "cell_type": "code",
   "execution_count": null,
   "metadata": {
    "ExecuteTime": {
     "end_time": "2020-10-03T02:51:16.078725Z",
     "start_time": "2020-10-03T02:51:16.036928Z"
    }
   },
   "outputs": [],
   "source": []
  },
  {
   "cell_type": "markdown",
   "metadata": {},
   "source": [
    "# Building The Machine Learning"
   ]
  },
  {
   "cell_type": "markdown",
   "metadata": {
    "ExecuteTime": {
     "end_time": "2020-10-03T02:49:04.024141Z",
     "start_time": "2020-10-03T02:49:00.372284Z"
    }
   },
   "source": [
    "**Import sklearn logistic regression model**\n",
    "\n",
    "```python\n",
    "from sklearn.linear_model import LogisticRegression\n",
    "\n",
    "lr = LogsticRegression()\n",
    "```"
   ]
  },
  {
   "cell_type": "code",
   "execution_count": null,
   "metadata": {
    "ExecuteTime": {
     "end_time": "2020-10-03T03:55:26.316346Z",
     "start_time": "2020-10-03T03:55:26.308358Z"
    }
   },
   "outputs": [],
   "source": []
  },
  {
   "cell_type": "markdown",
   "metadata": {
    "ExecuteTime": {
     "end_time": "2020-10-03T02:49:04.024141Z",
     "start_time": "2020-10-03T02:49:00.372284Z"
    }
   },
   "source": [
    "**Train the model**\n",
    "\n",
    "```python\n",
    "lr.fit(X_train, y_train)\n",
    "```"
   ]
  },
  {
   "cell_type": "code",
   "execution_count": null,
   "metadata": {
    "ExecuteTime": {
     "end_time": "2020-10-03T03:55:27.394314Z",
     "start_time": "2020-10-03T03:55:27.044820Z"
    },
    "scrolled": true
   },
   "outputs": [],
   "source": []
  },
  {
   "cell_type": "markdown",
   "metadata": {
    "ExecuteTime": {
     "end_time": "2020-10-03T02:49:04.024141Z",
     "start_time": "2020-10-03T02:49:00.372284Z"
    }
   },
   "source": [
    "**Evaluate the model**\n",
    "\n",
    "```python\n",
    "lr.score(X_test, y_test)\n",
    "```"
   ]
  },
  {
   "cell_type": "code",
   "execution_count": null,
   "metadata": {
    "ExecuteTime": {
     "end_time": "2020-10-03T03:55:28.742434Z",
     "start_time": "2020-10-03T03:55:28.721585Z"
    }
   },
   "outputs": [],
   "source": []
  },
  {
   "cell_type": "markdown",
   "metadata": {
    "ExecuteTime": {
     "end_time": "2020-10-03T02:49:04.024141Z",
     "start_time": "2020-10-03T02:49:00.372284Z"
    }
   },
   "source": [
    "**Check your health!**\n",
    "- **Prediction = 0 (No cardiovascular disease)**\n",
    "- **Prediction = 1 (Cardiovascular disease)**\n",
    "\n",
    "\n",
    "```python\n",
    "lr.predict([[your_age,\n",
    "             your_gender,\n",
    "             your_height,\n",
    "             your_weight,\n",
    "             smoking/non,\n",
    "             consuming_alcohol/non,\n",
    "             active_physically/non]]).item()\n",
    "```"
   ]
  },
  {
   "cell_type": "code",
   "execution_count": null,
   "metadata": {},
   "outputs": [],
   "source": []
  }
 ],
 "metadata": {
  "kernelspec": {
   "display_name": "Python 3",
   "language": "python",
   "name": "python3"
  },
  "language_info": {
   "codemirror_mode": {
    "name": "ipython",
    "version": 3
   },
   "file_extension": ".py",
   "mimetype": "text/x-python",
   "name": "python",
   "nbconvert_exporter": "python",
   "pygments_lexer": "ipython3",
   "version": "3.7.4"
  }
 },
 "nbformat": 4,
 "nbformat_minor": 2
}
